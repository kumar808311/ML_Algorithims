{
 "cells": [
  {
   "cell_type": "code",
   "execution_count": 260,
   "metadata": {},
   "outputs": [
    {
     "data": {
      "text/html": [
       "<div>\n",
       "<style scoped>\n",
       "    .dataframe tbody tr th:only-of-type {\n",
       "        vertical-align: middle;\n",
       "    }\n",
       "\n",
       "    .dataframe tbody tr th {\n",
       "        vertical-align: top;\n",
       "    }\n",
       "\n",
       "    .dataframe thead th {\n",
       "        text-align: right;\n",
       "    }\n",
       "</style>\n",
       "<table border=\"1\" class=\"dataframe\">\n",
       "  <thead>\n",
       "    <tr style=\"text-align: right;\">\n",
       "      <th></th>\n",
       "      <th>Age</th>\n",
       "      <th>Height</th>\n",
       "    </tr>\n",
       "  </thead>\n",
       "  <tbody>\n",
       "    <tr>\n",
       "      <th>0</th>\n",
       "      <td>10</td>\n",
       "      <td>138</td>\n",
       "    </tr>\n",
       "    <tr>\n",
       "      <th>1</th>\n",
       "      <td>11</td>\n",
       "      <td>138</td>\n",
       "    </tr>\n",
       "    <tr>\n",
       "      <th>2</th>\n",
       "      <td>12</td>\n",
       "      <td>138</td>\n",
       "    </tr>\n",
       "    <tr>\n",
       "      <th>3</th>\n",
       "      <td>13</td>\n",
       "      <td>139</td>\n",
       "    </tr>\n",
       "    <tr>\n",
       "      <th>4</th>\n",
       "      <td>14</td>\n",
       "      <td>139</td>\n",
       "    </tr>\n",
       "    <tr>\n",
       "      <th>5</th>\n",
       "      <td>15</td>\n",
       "      <td>139</td>\n",
       "    </tr>\n",
       "    <tr>\n",
       "      <th>6</th>\n",
       "      <td>16</td>\n",
       "      <td>140</td>\n",
       "    </tr>\n",
       "    <tr>\n",
       "      <th>7</th>\n",
       "      <td>17</td>\n",
       "      <td>140</td>\n",
       "    </tr>\n",
       "    <tr>\n",
       "      <th>8</th>\n",
       "      <td>18</td>\n",
       "      <td>140</td>\n",
       "    </tr>\n",
       "    <tr>\n",
       "      <th>9</th>\n",
       "      <td>19</td>\n",
       "      <td>141</td>\n",
       "    </tr>\n",
       "  </tbody>\n",
       "</table>\n",
       "</div>"
      ],
      "text/plain": [
       "   Age  Height\n",
       "0   10     138\n",
       "1   11     138\n",
       "2   12     138\n",
       "3   13     139\n",
       "4   14     139\n",
       "5   15     139\n",
       "6   16     140\n",
       "7   17     140\n",
       "8   18     140\n",
       "9   19     141"
      ]
     },
     "execution_count": 260,
     "metadata": {},
     "output_type": "execute_result"
    }
   ],
   "source": [
    "# Import necessary libraries \n",
    "import pandas as pd \n",
    "import numpy as np \n",
    "import matplotlib.pyplot as plt \n",
    "import seaborn as sns\n",
    "\n",
    "# Import the Height Weight Dataset \n",
    "data = pd.read_csv('C:\\PythonData\\Height_Weight_Dataset.csv') \n",
    "data.head(10)"
   ]
  },
  {
   "cell_type": "code",
   "execution_count": 261,
   "metadata": {},
   "outputs": [
    {
     "data": {
      "text/plain": [
       "Age       0\n",
       "Height    0\n",
       "dtype: int64"
      ]
     },
     "execution_count": 261,
     "metadata": {},
     "output_type": "execute_result"
    }
   ],
   "source": [
    "# To check if there is any null values in the dataset\n",
    "data.isnull().sum()"
   ]
  },
  {
   "cell_type": "code",
   "execution_count": 262,
   "metadata": {},
   "outputs": [
    {
     "data": {
      "text/html": [
       "<div>\n",
       "<style scoped>\n",
       "    .dataframe tbody tr th:only-of-type {\n",
       "        vertical-align: middle;\n",
       "    }\n",
       "\n",
       "    .dataframe tbody tr th {\n",
       "        vertical-align: top;\n",
       "    }\n",
       "\n",
       "    .dataframe thead th {\n",
       "        text-align: right;\n",
       "    }\n",
       "</style>\n",
       "<table border=\"1\" class=\"dataframe\">\n",
       "  <thead>\n",
       "    <tr style=\"text-align: right;\">\n",
       "      <th></th>\n",
       "      <th>Age</th>\n",
       "      <th>Height</th>\n",
       "    </tr>\n",
       "  </thead>\n",
       "  <tbody>\n",
       "    <tr>\n",
       "      <th>count</th>\n",
       "      <td>71.000000</td>\n",
       "      <td>71.000000</td>\n",
       "    </tr>\n",
       "    <tr>\n",
       "      <th>mean</th>\n",
       "      <td>45.000000</td>\n",
       "      <td>160.873239</td>\n",
       "    </tr>\n",
       "    <tr>\n",
       "      <th>std</th>\n",
       "      <td>20.639767</td>\n",
       "      <td>20.842902</td>\n",
       "    </tr>\n",
       "    <tr>\n",
       "      <th>min</th>\n",
       "      <td>10.000000</td>\n",
       "      <td>138.000000</td>\n",
       "    </tr>\n",
       "    <tr>\n",
       "      <th>25%</th>\n",
       "      <td>27.500000</td>\n",
       "      <td>143.500000</td>\n",
       "    </tr>\n",
       "    <tr>\n",
       "      <th>50%</th>\n",
       "      <td>45.000000</td>\n",
       "      <td>155.000000</td>\n",
       "    </tr>\n",
       "    <tr>\n",
       "      <th>75%</th>\n",
       "      <td>62.500000</td>\n",
       "      <td>171.500000</td>\n",
       "    </tr>\n",
       "    <tr>\n",
       "      <th>max</th>\n",
       "      <td>80.000000</td>\n",
       "      <td>208.000000</td>\n",
       "    </tr>\n",
       "  </tbody>\n",
       "</table>\n",
       "</div>"
      ],
      "text/plain": [
       "             Age      Height\n",
       "count  71.000000   71.000000\n",
       "mean   45.000000  160.873239\n",
       "std    20.639767   20.842902\n",
       "min    10.000000  138.000000\n",
       "25%    27.500000  143.500000\n",
       "50%    45.000000  155.000000\n",
       "75%    62.500000  171.500000\n",
       "max    80.000000  208.000000"
      ]
     },
     "execution_count": 262,
     "metadata": {},
     "output_type": "execute_result"
    }
   ],
   "source": [
    "# The describe() function is used to generate descriptive statistics that summarize the central tendency, dispersion and shape of a dataset’s distribution, excluding NaN values\n",
    "data.describe()"
   ]
  },
  {
   "cell_type": "code",
   "execution_count": 263,
   "metadata": {},
   "outputs": [
    {
     "name": "stdout",
     "output_type": "stream",
     "text": [
      "(71, 1) (71,)\n"
     ]
    }
   ],
   "source": [
    "#Store the data in the form of dependent and independent variables separately\n",
    "#X = data.iloc[:, 0:1].values \n",
    "#y = data.iloc[:, 1].values \n",
    "\n",
    "X=data.drop('Height', axis=1)\n",
    "y=data['Height']\n",
    "\n",
    "print(X.shape, y.shape)"
   ]
  },
  {
   "cell_type": "code",
   "execution_count": 264,
   "metadata": {},
   "outputs": [
    {
     "data": {
      "image/png": "[encoded data removed]",
      "text/plain": [
       "<Figure size 720x360 with 1 Axes>"
      ]
     },
     "metadata": {},
     "output_type": "display_data"
    }
   ],
   "source": [
    "# Visualizing our Data\n",
    "plt.figure(figsize=(10,5))\n",
    "plt.scatter(X,y)\n",
    "plt.title('Data Points',fontsize='20')\n",
    "plt.xlabel('Age',fontsize='15') \n",
    "plt.ylabel('Height',fontsize='15') \n",
    "plt.grid()  \n",
    "plt.show()"
   ]
  },
  {
   "cell_type": "code",
   "execution_count": 265,
   "metadata": {},
   "outputs": [],
   "source": [
    "#Split the Dataset into Training and Test Dataset\n",
    "from sklearn.model_selection import train_test_split\n",
    "#X_train, X_test, y_train, y_test = train_test_split(X, y, test_size=0.3, random_state=0)"
   ]
  },
  {
   "cell_type": "code",
   "execution_count": 266,
   "metadata": {},
   "outputs": [
    {
     "name": "stdout",
     "output_type": "stream",
     "text": [
      "Intercept of the line : 117.82595573440642\n",
      "Coefficient/slope of the line : [0.9566063]\n"
     ]
    }
   ],
   "source": [
    "#Fit the Simple Linear Regression Model\n",
    "from sklearn.linear_model import LinearRegression\n",
    "LinReg = LinearRegression()\n",
    "LinReg.fit(X, y)\n",
    "\n",
    "print ('Intercept of the line :', LinReg.intercept_)\n",
    "print ('Coefficient/slope of the line :', LinReg.coef_)"
   ]
  },
  {
   "cell_type": "code",
   "execution_count": 267,
   "metadata": {},
   "outputs": [
    {
     "data": {
      "image/png": "[encoded data removed]",
      "text/plain": [
       "<Figure size 720x360 with 1 Axes>"
      ]
     },
     "metadata": {},
     "output_type": "display_data"
    }
   ],
   "source": [
    "# Visualise the Linear Regression Result\n",
    "plt.figure(figsize=(10,5))\n",
    "plt.scatter(X, y, color = 'green', label='Actual') \n",
    "plt.plot(X, LinReg.predict(X), color = 'blue', label='Linear Regression') \n",
    "plt.title('Linear Regression',fontsize='20') \n",
    "plt.legend()\n",
    "plt.xlabel('Age',fontsize='15') \n",
    "plt.ylabel('Height',fontsize='15') \n",
    "plt.grid()  \n",
    "plt.show() "
   ]
  },
  {
   "cell_type": "code",
   "execution_count": 268,
   "metadata": {},
   "outputs": [
    {
     "name": "stdout",
     "output_type": "stream",
     "text": [
      "[[1.000e+00 1.000e+01 1.000e+02]\n",
      " [1.000e+00 1.100e+01 1.210e+02]\n",
      " [1.000e+00 1.200e+01 1.440e+02]\n",
      " [1.000e+00 1.300e+01 1.690e+02]\n",
      " [1.000e+00 1.400e+01 1.960e+02]\n",
      " [1.000e+00 1.500e+01 2.250e+02]\n",
      " [1.000e+00 1.600e+01 2.560e+02]\n",
      " [1.000e+00 1.700e+01 2.890e+02]\n",
      " [1.000e+00 1.800e+01 3.240e+02]\n",
      " [1.000e+00 1.900e+01 3.610e+02]\n",
      " [1.000e+00 2.000e+01 4.000e+02]\n",
      " [1.000e+00 2.100e+01 4.410e+02]\n",
      " [1.000e+00 2.200e+01 4.840e+02]\n",
      " [1.000e+00 2.300e+01 5.290e+02]\n",
      " [1.000e+00 2.400e+01 5.760e+02]\n",
      " [1.000e+00 2.500e+01 6.250e+02]\n",
      " [1.000e+00 2.600e+01 6.760e+02]\n",
      " [1.000e+00 2.700e+01 7.290e+02]\n",
      " [1.000e+00 2.800e+01 7.840e+02]\n",
      " [1.000e+00 2.900e+01 8.410e+02]\n",
      " [1.000e+00 3.000e+01 9.000e+02]\n",
      " [1.000e+00 3.100e+01 9.610e+02]\n",
      " [1.000e+00 3.200e+01 1.024e+03]\n",
      " [1.000e+00 3.300e+01 1.089e+03]\n",
      " [1.000e+00 3.400e+01 1.156e+03]\n",
      " [1.000e+00 3.500e+01 1.225e+03]\n",
      " [1.000e+00 3.600e+01 1.296e+03]\n",
      " [1.000e+00 3.700e+01 1.369e+03]\n",
      " [1.000e+00 3.800e+01 1.444e+03]\n",
      " [1.000e+00 3.900e+01 1.521e+03]\n",
      " [1.000e+00 4.000e+01 1.600e+03]\n",
      " [1.000e+00 4.100e+01 1.681e+03]\n",
      " [1.000e+00 4.200e+01 1.764e+03]\n",
      " [1.000e+00 4.300e+01 1.849e+03]\n",
      " [1.000e+00 4.400e+01 1.936e+03]\n",
      " [1.000e+00 4.500e+01 2.025e+03]\n",
      " [1.000e+00 4.600e+01 2.116e+03]\n",
      " [1.000e+00 4.700e+01 2.209e+03]\n",
      " [1.000e+00 4.800e+01 2.304e+03]\n",
      " [1.000e+00 4.900e+01 2.401e+03]\n",
      " [1.000e+00 5.000e+01 2.500e+03]\n",
      " [1.000e+00 5.100e+01 2.601e+03]\n",
      " [1.000e+00 5.200e+01 2.704e+03]\n",
      " [1.000e+00 5.300e+01 2.809e+03]\n",
      " [1.000e+00 5.400e+01 2.916e+03]\n",
      " [1.000e+00 5.500e+01 3.025e+03]\n",
      " [1.000e+00 5.600e+01 3.136e+03]\n",
      " [1.000e+00 5.700e+01 3.249e+03]\n",
      " [1.000e+00 5.800e+01 3.364e+03]\n",
      " [1.000e+00 5.900e+01 3.481e+03]\n",
      " [1.000e+00 6.000e+01 3.600e+03]\n",
      " [1.000e+00 6.100e+01 3.721e+03]\n",
      " [1.000e+00 6.200e+01 3.844e+03]\n",
      " [1.000e+00 6.300e+01 3.969e+03]\n",
      " [1.000e+00 6.400e+01 4.096e+03]\n",
      " [1.000e+00 6.500e+01 4.225e+03]\n",
      " [1.000e+00 6.600e+01 4.356e+03]\n",
      " [1.000e+00 6.700e+01 4.489e+03]\n",
      " [1.000e+00 6.800e+01 4.624e+03]\n",
      " [1.000e+00 6.900e+01 4.761e+03]\n",
      " [1.000e+00 7.000e+01 4.900e+03]\n",
      " [1.000e+00 7.100e+01 5.041e+03]\n",
      " [1.000e+00 7.200e+01 5.184e+03]\n",
      " [1.000e+00 7.300e+01 5.329e+03]\n",
      " [1.000e+00 7.400e+01 5.476e+03]\n",
      " [1.000e+00 7.500e+01 5.625e+03]\n",
      " [1.000e+00 7.600e+01 5.776e+03]\n",
      " [1.000e+00 7.700e+01 5.929e+03]\n",
      " [1.000e+00 7.800e+01 6.084e+03]\n",
      " [1.000e+00 7.900e+01 6.241e+03]\n",
      " [1.000e+00 8.000e+01 6.400e+03]]\n",
      "Intercept of the line : 144.80089650469813\n",
      "Coefficient/slope of the line : [ 0.         -0.5560072   0.01680682]\n"
     ]
    }
   ],
   "source": [
    "# Add the polynomial term to the equation/model\n",
    "from sklearn.preprocessing import PolynomialFeatures \n",
    "  \n",
    "model_pol = PolynomialFeatures(degree =2) \n",
    "X_poly = model_pol.fit_transform(X) \n",
    "  \n",
    "print(X_poly)\n",
    "\n",
    "#Fit the Polynomial Regression Model \n",
    "PolyReg = LinearRegression() \n",
    "PolyReg.fit(X_poly, y) \n",
    "\n",
    "print ('Intercept of the line :', PolyReg.intercept_)\n",
    "print ('Coefficient/slope of the line :', PolyReg.coef_)\n"
   ]
  },
  {
   "cell_type": "code",
   "execution_count": 269,
   "metadata": {},
   "outputs": [],
   "source": [
    "y_pred_poly= PolyReg .predict(X_poly)"
   ]
  },
  {
   "cell_type": "code",
   "execution_count": 274,
   "metadata": {},
   "outputs": [
    {
     "data": {
      "image/png": "[encoded data removed]",
      "text/plain": [
       "<Figure size 720x360 with 1 Axes>"
      ]
     },
     "metadata": {},
     "output_type": "display_data"
    }
   ],
   "source": [
    "# Visualise the Polynomial Regression Results \n",
    "plt.figure(figsize=(10,5))\n",
    "plt.scatter(X, y, color = 'green', label='Original Data Point') \n",
    "plt.plot(X, y_pred_poly, color = 'blue', label='Polynomial Regression ') \n",
    "plt.plot(X, LinReg.predict(X), color = 'red', label='Linear Regression ') \n",
    "plt.title('Polynomial Regression',fontsize='20') \n",
    "plt.legend()\n",
    "plt.xlabel('Age', fontsize='15') \n",
    "plt.ylabel('Height', fontsize='15') \n",
    "plt.grid()\n",
    "plt.show() "
   ]
  },
  {
   "cell_type": "code",
   "execution_count": 280,
   "metadata": {},
   "outputs": [
    {
     "name": "stdout",
     "output_type": "stream",
     "text": [
      "Mean Square Error (MSE) in with Linear Regression is: 43.96771426682158\n",
      "R-Square Error  in Linear Regression: 0.897345538595226\n"
     ]
    }
   ],
   "source": [
    "#Predicted Height from test dataset w.r.t Simple Linear Regression\n",
    "\n",
    "\n",
    "y_predict_slr = LinReg.predict(X)\n",
    "#Model Evaluation using R-Square for Simple Linear Regression\n",
    "from sklearn.metrics import mean_absolute_error, mean_squared_error, r2_score\n",
    "from math import sqrt \n",
    "\n",
    "r_square = metrics.r2_score(y, y_predict_slr)\n",
    "mse_LinReg = mean_squared_error(y, y_predict_slr)\n",
    "\n",
    "print('Mean Square Error (MSE) in with Linear Regression is:', mse_LinReg)\n",
    "print('R-Square Error in Linear Regression:', r_square)\n"
   ]
  },
  {
   "cell_type": "code",
   "execution_count": 281,
   "metadata": {},
   "outputs": [
    {
     "name": "stdout",
     "output_type": "stream",
     "text": [
      "Mean Square Error (MSE) in Polynomial Regression is: 4.129404127933187\n",
      "R-Square Error in Polynomial Regression is: 0.9903587947714737\n"
     ]
    }
   ],
   "source": [
    "##Predicted Height from test dataset w.r.t Polynomial Regression\n",
    "y_predict_pr = PolyReg .predict(X_poly)\n",
    "\n",
    "#Model Evaluation using R-Square for Polynomial Regression\n",
    "from sklearn.metrics import mean_absolute_error, mean_squared_error, r2_score\n",
    "from math import sqrt \n",
    "\n",
    "mse_PolyReg = mean_squared_error(y, y_predict_pr)\n",
    "r_square = metrics.r2_score(y, y_predict_pr)\n",
    "\n",
    "print('Mean Square Error (MSE) in Polynomial Regression is:', mse_PolyReg)\n",
    "print('R-Square Error in Polynomial Regression is:', r_square)"
   ]
  },
  {
   "cell_type": "code",
   "execution_count": 273,
   "metadata": {},
   "outputs": [
    {
     "name": "stdout",
     "output_type": "stream",
     "text": [
      " Predicted height estimation by Linear Regression :- [165.65627096]\n",
      " Predicted height estimation by Polynomial Regression :- [159.01757837]\n"
     ]
    }
   ],
   "source": [
    "# Predicting Height based on Age using Linear Regression \n",
    "print(' Predicted height estimation by Linear Regression :-', LinReg.predict([[50]])  )\n",
    "print(' Predicted height estimation by Polynomial Regression :-', PolyReg.predict(poly_reg.fit_transform([[50]])))"
   ]
  },
  {
   "cell_type": "code",
   "execution_count": null,
   "metadata": {},
   "outputs": [],
   "source": []
  },
  {
   "cell_type": "code",
   "execution_count": null,
   "metadata": {},
   "outputs": [],
   "source": []
  }
 ],
 "metadata": {
  "kernelspec": {
   "display_name": "Python 3",
   "language": "python",
   "name": "python3"
  },
  "language_info": {
   "codemirror_mode": {
    "name": "ipython",
    "version": 3
   },
   "file_extension": ".py",
   "mimetype": "text/x-python",
   "name": "python",
   "nbconvert_exporter": "python",
   "pygments_lexer": "ipython3",
   "version": "3.7.6"
  }
 },
 "nbformat": 4,
 "nbformat_minor": 2
}
